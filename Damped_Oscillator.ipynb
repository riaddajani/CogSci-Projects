{
  "nbformat": 4,
  "nbformat_minor": 0,
  "metadata": {
    "colab": {
      "provenance": [],
      "authorship_tag": "ABX9TyMUMS39rjQOcgO3ZKs0Lat5",
      "include_colab_link": true
    },
    "kernelspec": {
      "name": "python3",
      "display_name": "Python 3"
    },
    "language_info": {
      "name": "python"
    }
  },
  "cells": [
    {
      "cell_type": "markdown",
      "metadata": {
        "id": "view-in-github",
        "colab_type": "text"
      },
      "source": [
        "<a href=\"https://colab.research.google.com/github/riaddajani/Cogsci/blob/main/Damped_Oscillator.ipynb\" target=\"_parent\"><img src=\"https://colab.research.google.com/assets/colab-badge.svg\" alt=\"Open In Colab\"/></a>"
      ]
    },
    {
      "cell_type": "code",
      "execution_count": null,
      "metadata": {
        "id": "YId8F08Cm2t7"
      },
      "outputs": [],
      "source": [
        "import matplotlib.pyplot as mp\n",
        "\n",
        "# Initial Values\n",
        "initvel = 0\n",
        "initpos = 10\n",
        "spring = 2\n",
        "deltaT = 0.05\n",
        "friction = 0.2"
      ]
    },
    {
      "cell_type": "code",
      "source": [
        "def c_acc(pos0, spring):\n",
        "    '''change in acc'''\n",
        "    return -pos0 * spring\n",
        "\n",
        "def c_vel(vel0, deltaT, a1):\n",
        "    '''change in vel'''\n",
        "    return vel0 + deltaT * a1\n",
        "\n",
        "def c_pos(pos0, vel1, deltaT):\n",
        "    '''change in pos'''\n",
        "    return pos0 + vel1 * deltaT\n",
        "\n",
        "def release_spring(initpos, initvel, deltaT, spring):\n",
        "    '''initiate spring release'''\n",
        "    time = [0]\n",
        "    speeds = [initvel]\n",
        "    positions = [initpos]\n",
        "    for i in range(0, 50):\n",
        "        while time[i] < 50:\n",
        "            init_acc = c_acc(initpos, spring)\n",
        "            accelerations = [init_acc-(speeds[i]*friction)]\n",
        "            initvel = c_vel(initvel, deltaT, accelerations[i])\n",
        "            speeds = [initvel]\n",
        "            speeds.append(initvel)\n",
        "            initpos = c_pos(initpos, speeds[i], deltaT)\n",
        "            positions.append(initpos)\n",
        "            time[i] += deltaT\n",
        "            time.append(time[i])\n",
        "        return positions, time"
      ],
      "metadata": {
        "id": "tEcV6qscm7b_"
      },
      "execution_count": null,
      "outputs": []
    },
    {
      "cell_type": "code",
      "source": [
        "release_spring(initpos, initvel, deltaT, spring)\n",
        "positions, time = release_spring(initpos, initvel, deltaT, spring)\n",
        "time[0] = 0\n",
        "mp.plot(time, positions, 'r')\n",
        "mp.show()"
      ],
      "metadata": {
        "id": "orI2aBPqm8w7"
      },
      "execution_count": null,
      "outputs": []
    }
  ]
}