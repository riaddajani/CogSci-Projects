{
  "nbformat": 4,
  "nbformat_minor": 0,
  "metadata": {
    "colab": {
      "provenance": [],
      "authorship_tag": "ABX9TyMuhPzq7B51Q8zxXIsQ7vtd",
      "include_colab_link": true
    },
    "kernelspec": {
      "name": "python3",
      "display_name": "Python 3"
    },
    "language_info": {
      "name": "python"
    }
  },
  "cells": [
    {
      "cell_type": "markdown",
      "metadata": {
        "id": "view-in-github",
        "colab_type": "text"
      },
      "source": [
        "<a href=\"https://colab.research.google.com/github/riaddajani/Cogsci/blob/main/Delta_Rule.ipynb\" target=\"_parent\"><img src=\"https://colab.research.google.com/assets/colab-badge.svg\" alt=\"Open In Colab\"/></a>"
      ]
    },
    {
      "cell_type": "code",
      "execution_count": 1,
      "metadata": {
        "id": "m6NBlwVQnIkg"
      },
      "outputs": [],
      "source": [
        "import numpy as np\n",
        "import random as r\n",
        "import matplotlib.pyplot as mp\n",
        "\n",
        "np.warnings.filterwarnings('ignore', category=np.VisibleDeprecationWarning)\n",
        "\n",
        "theta = 5\n",
        "a = 0.2\n",
        "points = 10\n",
        "bias = 1\n",
        "spread = 10\n",
        "seperation = 3\n",
        "\n",
        "# temp\n",
        "m = 0.5\n",
        "b = 5\n",
        "cl = []\n",
        "b = [1]"
      ]
    },
    {
      "cell_type": "code",
      "source": [
        "def generate_data():\n",
        "        x = np.array([r.random() * spread/2 for i in range(0,points)])\n",
        "        y = x*m+b\n",
        "        split1 = y[:int(points/2)] + r.random()*seperation\n",
        "        split2 = y[int(points/2):] - r.random()*seperation\n",
        "        y = np.append(split1,split2)\n",
        "        for i in range(0, points):\n",
        "            cl[:5] = np.asarray([1 - 0 for i in range(0,points)])\n",
        "            cl[5:] = np.asarray([-1 - 0 for i in range(0,points)])\n",
        "        coords = np.asarray(list(zip(x, y)))\n",
        "        data = np.asarray(list(zip(coords, cl)))\n",
        "        # for i in range(0,points):\n",
        "        #     self.d = np.asarray(list(zip(coords, self.c)))\n",
        "        wts = np.asarray([r.random() for i in range(2)])\n",
        "        return data, wts, x, y, cl\n",
        "\n",
        "def deltaRule(data, wts):\n",
        "\tdes = [data[1][-1] for i in b]\n",
        "\tI = sum([i[0]*wt for i,wt in zip(data[0:-1],wts)])\n",
        "\tobs = 1 if I.all() > theta else -1\n",
        "\tnew_wts = [wts + (a*(obs-des[0]))*i for i in b]\n",
        "\tprint('old', wts)\n",
        "\tprint('new', new_wts)\n",
        "\n",
        "\tif obs != des:\n",
        "\t\tnew = np.dot(data[1][-1], new_wts)\n",
        "\t\tprint(new)"
      ],
      "metadata": {
        "id": "5B3ybn2fnlnO"
      },
      "execution_count": 2,
      "outputs": []
    },
    {
      "cell_type": "code",
      "source": [
        "data, wts, x, y, cl = generate_data()\n",
        "deltaRule(data, wts)\n",
        "\n",
        "mp.scatter(x, y)\n",
        "mp.show()"
      ],
      "metadata": {
        "colab": {
          "base_uri": "https://localhost:8080/",
          "height": 482
        },
        "id": "x3SlrhKIno5g",
        "outputId": "8ef060ea-5ce0-4b7a-c02c-18afc38e1110"
      },
      "execution_count": 3,
      "outputs": [
        {
          "output_type": "stream",
          "name": "stdout",
          "text": [
            "old [0.19996884 0.95497792]\n",
            "new [array([-0.20003116,  0.55497792])]\n",
            "[[-0.20003116  0.55497792]]\n"
          ]
        },
        {
          "output_type": "display_data",
          "data": {
            "text/plain": [
              "<Figure size 640x480 with 1 Axes>"
            ],
            "image/png": "[encoded data removed]"
          },
          "metadata": {}
        }
      ]
    }
  ]
}