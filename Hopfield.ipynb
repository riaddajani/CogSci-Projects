{
  "nbformat": 4,
  "nbformat_minor": 0,
  "metadata": {
    "colab": {
      "provenance": [],
      "authorship_tag": "ABX9TyNbqC506/TQ8+3jLr23MMyf",
      "include_colab_link": true
    },
    "kernelspec": {
      "name": "python3",
      "display_name": "Python 3"
    },
    "language_info": {
      "name": "python"
    }
  },
  "cells": [
    {
      "cell_type": "markdown",
      "metadata": {
        "id": "view-in-github",
        "colab_type": "text"
      },
      "source": [
        "<a href=\"https://colab.research.google.com/github/riaddajani/Cogsci/blob/main/Hopfield.ipynb\" target=\"_parent\"><img src=\"https://colab.research.google.com/assets/colab-badge.svg\" alt=\"Open In Colab\"/></a>"
      ]
    },
    {
      "cell_type": "code",
      "execution_count": 1,
      "metadata": {
        "id": "lkuFhLYZo79q"
      },
      "outputs": [],
      "source": [
        "import numpy as np\n",
        "import random as r\n",
        "import matplotlib.pyplot as mp\n",
        "np.warnings.filterwarnings('ignore', category=np.VisibleDeprecationWarning)"
      ]
    },
    {
      "cell_type": "code",
      "source": [
        "#Generates pattern\n",
        "def cell(length):\n",
        "    return [r.randint(0,1)*2-1 for i in range(0, length)]\n",
        "\n",
        "#Creates affinity matrix from pattern\n",
        "def weights(ins):\n",
        "\twts = []\n",
        "\tmatrix = []\n",
        "\tfor indexi, i in enumerate(ins):\n",
        "\t\tfor indexj, j in enumerate(ins):\n",
        "\t\t\twts.append(0) if indexj == indexi else wts.append((i+j)/2)\n",
        "\t\t\tif len(wts) == len(ins):\n",
        "\t\t\t\tmatrix.append(wts)\n",
        "\t\t\t\twts = []\n",
        "\treturn np.array(matrix)\n",
        "\n",
        "\n",
        "def loop(ins, wts):\n",
        "\tinsP = ins\n",
        "\twhile True:\n",
        "\t\tog = insP\n",
        "\t\tfor rw in list(range(len(ins))):\n",
        "\t\t\tfor cl in list(range(len(ins))):\n",
        "\t\t\t\tinsP[rw][cl] = 1.0 if (wts[rw]@insP[rw]) > 0 else -1\n",
        "\t\tif (np.all(og == insP)):\n",
        "\t\t\tbreak\n",
        "\treturn ins"
      ],
      "metadata": {
        "id": "JReCNsBopBcE"
      },
      "execution_count": 2,
      "outputs": []
    },
    {
      "cell_type": "code",
      "source": [
        "x1 = cell(8)\n",
        "x2 = cell(8)\n",
        "neuron1 = weights(x1)\n",
        "neuron2 = weights(x2)\n",
        "w = np.add(neuron1, neuron2)\n",
        "\n",
        "print(x1)"
      ],
      "metadata": {
        "colab": {
          "base_uri": "https://localhost:8080/"
        },
        "id": "EKF-3cRcpDTu",
        "outputId": "dbf3402b-1be3-4c76-e3b1-83d10fb43e30"
      },
      "execution_count": 3,
      "outputs": [
        {
          "output_type": "stream",
          "name": "stdout",
          "text": [
            "[1, 1, 1, -1, 1, 1, 1, 1]\n"
          ]
        }
      ]
    },
    {
      "cell_type": "code",
      "source": [
        "def test(th = 2):\n",
        "\tresult = []\n",
        "\tfor i in range(len(neuron1)):\n",
        "\t\tresult.append(1) if (w[i]@loop(neuron1, w)[i]) > th else result.append(-1)\n",
        "\treturn result\n",
        "\n",
        "print(test())\n",
        "\n",
        "mp.matshow(neuron1)\n",
        "mp.matshow(neuron1*loop(weights(x1), w))\n",
        "mp.show()"
      ],
      "metadata": {
        "colab": {
          "base_uri": "https://localhost:8080/",
          "height": 874
        },
        "id": "J8qMkOI1pEkD",
        "outputId": "c9dae191-707c-4ee0-bb2f-f944175106ec"
      },
      "execution_count": 4,
      "outputs": [
        {
          "output_type": "stream",
          "name": "stdout",
          "text": [
            "[-1, 1, -1, -1, -1, -1, 1, -1]\n"
          ]
        },
        {
          "output_type": "display_data",
          "data": {
            "text/plain": [
              "<Figure size 480x480 with 1 Axes>"
            ],
            "image/png": "[encoded data removed]"
          },
          "metadata": {}
        },
        {
          "output_type": "display_data",
          "data": {
            "text/plain": [
              "<Figure size 480x480 with 1 Axes>"
            ],
            "image/png": "[encoded data removed]"
          },
          "metadata": {}
        }
      ]
    }
  ]
}