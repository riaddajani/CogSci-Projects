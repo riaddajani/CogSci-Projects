{
  "nbformat": 4,
  "nbformat_minor": 0,
  "metadata": {
    "colab": {
      "provenance": [],
      "authorship_tag": "ABX9TyN8O9wt6WQh0EVzmb/kaiaJ",
      "include_colab_link": true
    },
    "kernelspec": {
      "name": "python3",
      "display_name": "Python 3"
    },
    "language_info": {
      "name": "python"
    }
  },
  "cells": [
    {
      "cell_type": "markdown",
      "metadata": {
        "id": "view-in-github",
        "colab_type": "text"
      },
      "source": [
        "<a href=\"https://colab.research.google.com/github/riaddajani/Cogsci/blob/main/Perceptron.ipynb\" target=\"_parent\"><img src=\"https://colab.research.google.com/assets/colab-badge.svg\" alt=\"Open In Colab\"/></a>"
      ]
    },
    {
      "cell_type": "code",
      "execution_count": null,
      "metadata": {
        "id": "wW_Ws7BBmbRd"
      },
      "outputs": [],
      "source": [
        "import numpy as np\n",
        "np.warnings.filterwarnings('ignore', category=np.VisibleDeprecationWarning)\n",
        "\n",
        "theta = 1\n",
        "ins = np.array([\n",
        "    [np.array([0.3,0.7])   ,  1.0],\n",
        "    [np.array([-0.6,0.3])  , -1.0],\n",
        "    [np.array([0.7,0.3])   ,  1.0],\n",
        "    [np.array([-0.2,-0.8]) , -1.0]])\n",
        "\n",
        "wts = np.array([-0.6, 0.8])\n",
        "\n",
        "new_data = []\n",
        "computed_class = []\n",
        "correctness = []"
      ]
    },
    {
      "cell_type": "code",
      "source": [
        "def compute_activation(data, weights):\n",
        "    for i in range(len(data)):\n",
        "        calc = data[i][0]\n",
        "        for j in range(len(calc)):\n",
        "            I = np.add(calc[j], weights[j]) # Printing I will show -0.3, 1.5 (expected values)\n",
        "            new_data.append(I)\n",
        "            if I > theta:\n",
        "                y = 1.0\n",
        "                computed_class.append(y)\n",
        "            else:\n",
        "                y = -1.0\n",
        "                computed_class.append(y)\n",
        "    return computed_class\n",
        "\n",
        "def compare_class(computed, desired):\n",
        "    for i in range(len(computed)):\n",
        "        for j in range(len(desired)):\n",
        "            if computed[i] == desired[j][1]: # This is wrong because it neglects the last 4 values\n",
        "                beta = 1.0\n",
        "            else: # (x, y) if input x > T then y = 1, if input y > T then y = 1 (for AND since (1, 1) x & y = 1)\n",
        "                beta = -1.0\n",
        "        correctness.append(beta)\n",
        "    return correctness\n",
        "\n",
        "\n",
        "def update_wts(data, weights):\n",
        "    computed_class = compute_activation(data, weights) # The inputs go through the functions more than once. 'I' shows one iteration.\n",
        "    correctness = compare_class(computed_class, data)\n",
        "    updt_wts = []\n",
        "    for i in range(len(correctness)):\n",
        "        by = correctness[i]*computed_class[i]\n",
        "        for j in range(len(data)):\n",
        "            for k in range(len(weights)):\n",
        "                byx = by*data[j][0][k]\n",
        "                Wnew = weights[k]+byx\n",
        "                data[j][0][k] = Wnew # Because of the previous error, the new classes arent updated.\n",
        "            return data"
      ],
      "metadata": {
        "id": "sGRA-FlVml_w"
      },
      "execution_count": null,
      "outputs": []
    },
    {
      "cell_type": "code",
      "source": [
        "data = update_wts(ins, wts)\n",
        "print(data)"
      ],
      "metadata": {
        "id": "1UWsfsOwmofG"
      },
      "execution_count": null,
      "outputs": []
    }
  ]
}