{
  "nbformat": 4,
  "nbformat_minor": 0,
  "metadata": {
    "colab": {
      "provenance": [],
      "authorship_tag": "ABX9TyO/bm7fIhnu87UdLJK+5KEX",
      "include_colab_link": true
    },
    "kernelspec": {
      "name": "python3",
      "display_name": "Python 3"
    },
    "language_info": {
      "name": "python"
    }
  },
  "cells": [
    {
      "cell_type": "markdown",
      "metadata": {
        "id": "view-in-github",
        "colab_type": "text"
      },
      "source": [
        "<a href=\"https://colab.research.google.com/github/riaddajani/Cogsci/blob/main/DeltaRule_RanGenW_Training.ipynb\" target=\"_parent\"><img src=\"https://colab.research.google.com/assets/colab-badge.svg\" alt=\"Open In Colab\"/></a>"
      ]
    },
    {
      "cell_type": "code",
      "execution_count": 2,
      "metadata": {
        "id": "3U1DsG0NnzpZ"
      },
      "outputs": [],
      "source": [
        "import random as r\n",
        "import numpy as np\n",
        "import matplotlib.pyplot as mp\n",
        "\n",
        "points = 10"
      ]
    },
    {
      "cell_type": "code",
      "source": [
        "def generate():\n",
        "\tclasses = []\n",
        "\tdata = []\n",
        "\tx = [r.random()*i/2 for i in range(0, points)]\n",
        "\ty = [i*0.5 for i in x]\n",
        "\ty[5:] = [i*0 + r.uniform(-1, 2) for i in range(0,5)]\n",
        "\ty[:5] = [i*0 - r.uniform(-1, 2) for i in range(0,5)]\n",
        "\tbias = [1 - 0 for i in range(0,points)]\n",
        "\tclasses[5:] = [-1 - 0 for i in range(0,points)]\n",
        "\tclasses[:5] = [1 - 0 for i in range(0,int(points/2))]\n",
        "\tdata = np.array([list(a) for a in zip(x, y, bias, classes)])\n",
        "\twts = np.array([i*0 + r.uniform(-1, 2) for i in range(0,3)])\n",
        "\tprint('old:   ', wts)\n",
        "\treturn data, classes, wts\n",
        "\n",
        "data, classes, wts = generate()\n",
        "\n",
        "def interact(ins, wts, t = 1):\n",
        "\tI = sum([i*w for i, w in zip(ins,wts)])\n",
        "\tobserved = 1 if I > t else -1\n",
        "\treturn observed\n",
        "\n",
        "def screen(des, obs):\n",
        "\tif des == obs: return True\n",
        "\telse:\n",
        "\t\treturn False\n",
        "\n",
        "def delta(ins, wts, desired, observed, lr = 0.1):\n",
        "\tdesired = ins[-1]\n",
        "\tnew_weight = np.array([(((desired-observed)*lr)*i) + w for i, w in zip(ins,wts)])\n",
        "\treturn new_weight\n",
        "\n",
        "for i in range(len(data)):\n",
        "\twhile(True):\n",
        "\t\tobs = interact(data[i], wts)\n",
        "\t\tif screen(data[i][-1], obs):\n",
        "\t\t\tbreak\n",
        "\t\telse:\n",
        "\t\t\tx = data[i][0]\n",
        "\t\t\ty = data[i][1]\n",
        "\t\t\tbias = data[i][2]\n",
        "\t\t\tins = [x, y, bias]\n",
        "\t\t\twts = delta(ins, wts, data[i][-1], obs)\n",
        "\t\t\t#if you remove this break, it keeps going up\n",
        "\t\t\tbreak\n",
        "\n",
        "print('result:', wts)"
      ],
      "metadata": {
        "colab": {
          "base_uri": "https://localhost:8080/"
        },
        "id": "zODiLXJAn3kY",
        "outputId": "1f160b58-4616-402e-e3af-02019232b7cc"
      },
      "execution_count": 3,
      "outputs": [
        {
          "output_type": "stream",
          "name": "stdout",
          "text": [
            "old:    [ 0.82967302 -0.59863447  1.67040972]\n",
            "result: [ 0.82967302 -0.59863447  1.67040972]\n"
          ]
        }
      ]
    }
  ]
}